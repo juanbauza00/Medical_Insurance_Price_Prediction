{
 "cells": [
  {
   "cell_type": "markdown",
   "id": "092a4195",
   "metadata": {},
   "source": [
    "## Libraries"
   ]
  },
  {
   "cell_type": "code",
   "execution_count": 1,
   "id": "5f52d8c3",
   "metadata": {},
   "outputs": [],
   "source": [
    "import pandas as pd"
   ]
  },
  {
   "cell_type": "markdown",
   "id": "817f1709",
   "metadata": {},
   "source": [
    "## Functions"
   ]
  },
  {
   "cell_type": "code",
   "execution_count": 2,
   "id": "bd6b2a28",
   "metadata": {},
   "outputs": [],
   "source": [
    "def calculate_outliers(column):\n",
    "    q1 = column.quantile(0.25)\n",
    "    q3 = column.quantile(0.75)\n",
    "    iqr = q3 - q1\n",
    "    \n",
    "    # Define limits to identify outliers\n",
    "    upper_limit = q3 + 1.5 * iqr\n",
    "    lower_limit = q1 - 1.5 * iqr\n",
    "    \n",
    "    # Count upper and lower outliers\n",
    "    upper_outliers = column[column > upper_limit].count()\n",
    "    lower_outliers = column[column < lower_limit].count()\n",
    "    \n",
    "    # Calculate percentage of outliers\n",
    "    total_values = len(column)\n",
    "    upper_percentage = upper_outliers / total_values * 100\n",
    "    lower_percentage = lower_outliers / total_values * 100\n",
    "    \n",
    "    \n",
    "    \n",
    "    return upper_outliers, upper_percentage, lower_outliers, lower_percentage"
   ]
  }
 ],
 "metadata": {
  "kernelspec": {
   "display_name": "Python 3 (ipykernel)",
   "language": "python",
   "name": "python3"
  },
  "language_info": {
   "codemirror_mode": {
    "name": "ipython",
    "version": 3
   },
   "file_extension": ".py",
   "mimetype": "text/x-python",
   "name": "python",
   "nbconvert_exporter": "python",
   "pygments_lexer": "ipython3",
   "version": "3.11.5"
  }
 },
 "nbformat": 4,
 "nbformat_minor": 5
}
